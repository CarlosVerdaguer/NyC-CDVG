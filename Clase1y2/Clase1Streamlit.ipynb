{
 "cells": [
  {
   "cell_type": "code",
   "execution_count": 2,
   "metadata": {},
   "outputs": [
    {
     "data": {
      "text/plain": [
       "DeltaGenerator(_root_container=0, _provided_cursor=None, _parent=None, _block_type=None, _form_data=None)"
      ]
     },
     "execution_count": 2,
     "metadata": {},
     "output_type": "execute_result"
    }
   ],
   "source": [
    "import streamlit as st\n",
    "st.title('My first app - Hello World!')"
   ]
  },
  {
   "cell_type": "code",
   "execution_count": null,
   "metadata": {},
   "outputs": [],
   "source": [
    "#Leer dataframe\n",
    "import pandas as pd\n",
    "import streamlit as st\n",
    "\n",
    "names_link = 'dataset.csv'\n",
    "names_data = pd.read_csv(names_link)\n",
    "st.title('Read CSV')\n",
    "st.dataframe(names_data)"
   ]
  },
  {
   "cell_type": "code",
   "execution_count": null,
   "metadata": {},
   "outputs": [],
   "source": [
    "#Leer dataframe usando cache\n",
    "import pandas as pd\n",
    "import streamlit as st\n",
    "\n",
    "st.title('Streamlit con cache')\n",
    "\n",
    "DATA_URL = 'dataset.csv'\n",
    "\n",
    "@st.cache\n",
    "def load_data(nrows):\n",
    "    data=pd.read_csv(DATA_URL,nrows=nrows)\n",
    "    return data\n",
    "\n",
    "data_load_state = st.text('Loading data...')\n",
    "data = load_data(1000)\n",
    "data_load_state.text('Done! (using st.cache')\n",
    "\n",
    "st.dataframe(data)\n"
   ]
  }
 ],
 "metadata": {
  "kernelspec": {
   "display_name": "Python 3.10.6 64-bit",
   "language": "python",
   "name": "python3"
  },
  "language_info": {
   "codemirror_mode": {
    "name": "ipython",
    "version": 3
   },
   "file_extension": ".py",
   "mimetype": "text/x-python",
   "name": "python",
   "nbconvert_exporter": "python",
   "pygments_lexer": "ipython3",
   "version": "3.10.6"
  },
  "orig_nbformat": 4,
  "vscode": {
   "interpreter": {
    "hash": "a395d9423adaaf2a7bd21c71241ddc32c2d2b51cdf5d8fb0285f4a2631350060"
   }
  }
 },
 "nbformat": 4,
 "nbformat_minor": 2
}
