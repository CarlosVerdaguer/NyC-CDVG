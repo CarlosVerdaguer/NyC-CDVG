{
 "cells": [
  {
   "cell_type": "code",
   "execution_count": null,
   "metadata": {},
   "outputs": [],
   "source": [
    "import streamlit as st\n",
    "\n",
    "myname = st.text_input('name :')\n",
    "\n",
    "if st.button('Search'):\n",
    "    st.write(f\"search name: {myname}\")\n",
    "\n"
   ]
  }
 ],
 "metadata": {
  "kernelspec": {
   "display_name": "Python 3.10.6 64-bit",
   "language": "python",
   "name": "python3"
  },
  "language_info": {
   "name": "python",
   "version": "3.10.6"
  },
  "orig_nbformat": 4,
  "vscode": {
   "interpreter": {
    "hash": "a395d9423adaaf2a7bd21c71241ddc32c2d2b51cdf5d8fb0285f4a2631350060"
   }
  }
 },
 "nbformat": 4,
 "nbformat_minor": 2
}
